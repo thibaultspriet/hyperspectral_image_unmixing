{
 "cells": [
  {
   "cell_type": "markdown",
   "metadata": {},
   "source": [
    "<img\n",
    "src=\"http://www.telecom-em.eu/sites/default/files/logoimt2016.JPG\"\n",
    "WIDTH=180 HEIGHT=180>\n",
    "\n",
    "<CENTER>\n",
    "<p>\n",
    "<font size=\"5\"> Introduction to parallel computing</font></p>\n",
    "</CENTER>"
   ]
  },
  {
   "cell_type": "markdown",
   "metadata": {},
   "source": [
    "----------------\n",
    "\n",
    "# Parallel programming\n",
    "\n",
    "Use the official documentation \n",
    "https://docs.julialang.org/en/v1/manual/parallel-computing/index.html\n",
    "\n",
    "Julia evolves quickly so you will be sure that the official documentation is up to date.\n",
    "\n",
    "Other resources can be found on the internet but not all of them are up to date...\n",
    "(e.g. https://codingclubuc3m.github.io/2018-06-06-Parallel-computing-Julia.html , replace all occurences of  @parallel by @distributed)\n",
    "\n"
   ]
  },
  {
   "cell_type": "code",
   "execution_count": 1,
   "metadata": {
    "ExecuteTime": {
     "end_time": "2020-10-21T14:09:56.900000+02:00",
     "start_time": "2020-10-21T12:09:52.284Z"
    }
   },
   "outputs": [
    {
     "data": {
      "text/plain": [
       "3-element Array{Int64,1}:\n",
       " 2\n",
       " 3\n",
       " 4"
      ]
     },
     "execution_count": 1,
     "metadata": {},
     "output_type": "execute_result"
    }
   ],
   "source": [
    "# Using Pkg\n",
    "# Pkg.add(\"Distributed\")\n",
    "\n",
    "using Distributed\n",
    "\n",
    "CPU_CORES = 4 # number of cores on the machine\n",
    "\n",
    "# Before adding workers.\n",
    "nprocs()\n",
    "nworkers() # when there are no no extra workers, nprocs() = nworkers().\n",
    "\n",
    "# After adding them.\n",
    "addprocs(CPU_CORES - 1) # 4 cores\n",
    "# addprocs(1) # 2 cores\n",
    "nprocs()\n",
    "nworkers()\n",
    "workers()\n",
    "\n",
    "# nworkers() #Number of available worker processes. nworkers() = nprocs() - 1.\n",
    "# rmproc()"
   ]
  },
  {
   "cell_type": "markdown",
   "metadata": {},
   "source": [
    "### Using tasks"
   ]
  },
  {
   "cell_type": "code",
   "execution_count": 2,
   "metadata": {
    "ExecuteTime": {
     "end_time": "2020-10-21T14:10:00.082000+02:00",
     "start_time": "2020-10-21T12:09:59.826Z"
    }
   },
   "outputs": [
    {
     "data": {
      "text/plain": [
       "Task (runnable) @0x00007f5339348280"
      ]
     },
     "execution_count": 2,
     "metadata": {},
     "output_type": "execute_result"
    }
   ],
   "source": [
    "a() = sum(i for i in 1:1000) # sum of integers from 1 to 1000 = 500500\n",
    "b   = Task(a)  # or b = @task a()  # associate task to this function"
   ]
  },
  {
   "cell_type": "code",
   "execution_count": 3,
   "metadata": {
    "ExecuteTime": {
     "end_time": "2020-10-21T14:10:08.173000+02:00",
     "start_time": "2020-10-21T12:10:07.939Z"
    }
   },
   "outputs": [
    {
     "data": {
      "text/plain": [
       "false"
      ]
     },
     "execution_count": 3,
     "metadata": {},
     "output_type": "execute_result"
    }
   ],
   "source": [
    "istaskstarted(b) "
   ]
  },
  {
   "cell_type": "code",
   "execution_count": 4,
   "metadata": {
    "ExecuteTime": {
     "end_time": "2020-10-21T14:10:10.283000+02:00",
     "start_time": "2020-10-21T12:10:10.239Z"
    }
   },
   "outputs": [
    {
     "data": {
      "text/plain": [
       "Task (done) @0x00007f5339348280"
      ]
     },
     "execution_count": 4,
     "metadata": {},
     "output_type": "execute_result"
    }
   ],
   "source": [
    "schedule(b) # Adds the task to the scheduler's queue"
   ]
  },
  {
   "cell_type": "code",
   "execution_count": 5,
   "metadata": {
    "ExecuteTime": {
     "end_time": "2020-10-21T14:10:11.948000+02:00",
     "start_time": "2020-10-21T12:10:11.945Z"
    }
   },
   "outputs": [
    {
     "data": {
      "text/plain": [
       "true"
      ]
     },
     "execution_count": 5,
     "metadata": {},
     "output_type": "execute_result"
    }
   ],
   "source": [
    "istaskstarted(b)"
   ]
  },
  {
   "cell_type": "code",
   "execution_count": 6,
   "metadata": {
    "ExecuteTime": {
     "end_time": "2020-10-21T14:10:13.517000+02:00",
     "start_time": "2020-10-21T12:10:13.503Z"
    }
   },
   "outputs": [
    {
     "data": {
      "text/plain": [
       "true"
      ]
     },
     "execution_count": 6,
     "metadata": {},
     "output_type": "execute_result"
    }
   ],
   "source": [
    "istaskdone(b)"
   ]
  },
  {
   "cell_type": "code",
   "execution_count": 7,
   "metadata": {
    "ExecuteTime": {
     "end_time": "2020-10-21T14:10:15.363000+02:00",
     "start_time": "2020-10-21T12:10:15.314Z"
    }
   },
   "outputs": [
    {
     "data": {
      "text/plain": [
       "Task (done) @0x00007f5339348280"
      ]
     },
     "execution_count": 7,
     "metadata": {},
     "output_type": "execute_result"
    }
   ],
   "source": [
    "b"
   ]
  },
  {
   "cell_type": "code",
   "execution_count": 8,
   "metadata": {
    "ExecuteTime": {
     "end_time": "2020-10-21T14:10:20.144000+02:00",
     "start_time": "2020-10-21T12:10:19.920Z"
    }
   },
   "outputs": [
    {
     "data": {
      "text/plain": [
       "500500"
      ]
     },
     "execution_count": 8,
     "metadata": {},
     "output_type": "execute_result"
    }
   ],
   "source": [
    "fetch(b) # get the answer of task"
   ]
  },
  {
   "cell_type": "markdown",
   "metadata": {},
   "source": [
    "### Using several workers"
   ]
  },
  {
   "cell_type": "code",
   "execution_count": 9,
   "metadata": {
    "ExecuteTime": {
     "end_time": "2020-10-21T14:11:38.661000+02:00",
     "start_time": "2020-10-21T12:11:38.655Z"
    }
   },
   "outputs": [
    {
     "data": {
      "text/plain": [
       "3-element Array{Int64,1}:\n",
       " 2\n",
       " 3\n",
       " 4"
      ]
     },
     "execution_count": 9,
     "metadata": {},
     "output_type": "execute_result"
    }
   ],
   "source": [
    "workers() # find out how many workers are active"
   ]
  },
  {
   "cell_type": "code",
   "execution_count": 10,
   "metadata": {
    "ExecuteTime": {
     "end_time": "2020-10-21T14:11:41.781000+02:00",
     "start_time": "2020-10-21T12:11:40.751Z"
    }
   },
   "outputs": [
    {
     "data": {
      "text/plain": [
       "2-element Array{Int64,1}:\n",
       " 5\n",
       " 6"
      ]
     },
     "execution_count": 10,
     "metadata": {},
     "output_type": "execute_result"
    }
   ],
   "source": [
    "addprocs(2) # add two workers"
   ]
  },
  {
   "cell_type": "code",
   "execution_count": 11,
   "metadata": {
    "ExecuteTime": {
     "end_time": "2020-10-21T14:11:43.157000+02:00",
     "start_time": "2020-10-21T12:11:43.151Z"
    }
   },
   "outputs": [
    {
     "data": {
      "text/plain": [
       "5-element Array{Int64,1}:\n",
       " 2\n",
       " 3\n",
       " 4\n",
       " 5\n",
       " 6"
      ]
     },
     "execution_count": 11,
     "metadata": {},
     "output_type": "execute_result"
    }
   ],
   "source": [
    "workers() "
   ]
  },
  {
   "cell_type": "code",
   "execution_count": 12,
   "metadata": {
    "ExecuteTime": {
     "end_time": "2020-10-21T14:11:46.262000+02:00",
     "start_time": "2020-10-21T12:11:45.890Z"
    }
   },
   "outputs": [
    {
     "data": {
      "text/plain": [
       "(6, Task (done) @0x00007f5339229ae0)"
      ]
     },
     "execution_count": 12,
     "metadata": {},
     "output_type": "execute_result"
    }
   ],
   "source": [
    "nprocs(),rmprocs(7) # list number of active processes, remove process with PID 7\n",
    "                      # rmprocs(1) does not work because procs = 1 is not a worker"
   ]
  },
  {
   "cell_type": "code",
   "execution_count": 13,
   "metadata": {
    "ExecuteTime": {
     "end_time": "2020-10-21T14:12:04.872000+02:00",
     "start_time": "2020-10-21T12:12:04.445Z"
    }
   },
   "outputs": [
    {
     "data": {
      "text/plain": [
       "Future(2, 1, 7, nothing)"
      ]
     },
     "execution_count": 13,
     "metadata": {},
     "output_type": "execute_result"
    }
   ],
   "source": [
    "w = 2 # worker number 2\n",
    "r = remotecall(rand, w, 2, 2) # RemoteRef: reference to computed result.\n",
    "# call rand function to be executed on worker 2.A \"Future\" object is returned (something that will be fetched later on)"
   ]
  },
  {
   "cell_type": "code",
   "execution_count": 14,
   "metadata": {
    "ExecuteTime": {
     "end_time": "2020-10-21T14:12:43.976000+02:00",
     "start_time": "2020-10-21T12:12:43.054Z"
    }
   },
   "outputs": [
    {
     "data": {
      "text/plain": [
       "2×2 Array{Float64,2}:\n",
       " 0.164143   0.153965\n",
       " 0.0850897  0.355181"
      ]
     },
     "execution_count": 14,
     "metadata": {},
     "output_type": "execute_result"
    }
   ],
   "source": [
    "fetch(r)  # gets the computed result\n",
    "          # blocks main processor until result is available "
   ]
  },
  {
   "cell_type": "code",
   "execution_count": 15,
   "metadata": {
    "ExecuteTime": {
     "end_time": "2020-10-21T14:12:50.545000+02:00",
     "start_time": "2020-10-21T12:12:49.519Z"
    }
   },
   "outputs": [
    {
     "data": {
      "text/plain": [
       "5.0"
      ]
     },
     "execution_count": 15,
     "metadata": {},
     "output_type": "execute_result"
    }
   ],
   "source": [
    "x,y = 3,4\n",
    "ψ= (x,y)->sqrt(x^2+y^2)\n",
    "remotecall_fetch(ψ,w,x,y) # obtain value of computation of psi by worker number w and passing arguments x,y (both remotecall and fetch are performed at the same time)"
   ]
  },
  {
   "cell_type": "code",
   "execution_count": 16,
   "metadata": {
    "ExecuteTime": {
     "end_time": "2020-10-21T14:13:55.360000+02:00",
     "start_time": "2020-10-21T12:13:54.226Z"
    }
   },
   "outputs": [
    {
     "data": {
      "text/plain": [
       "2×2 Array{Float64,2}:\n",
       " 1.16414    0.153965\n",
       " 0.0850897  1.35518 "
      ]
     },
     "execution_count": 16,
     "metadata": {},
     "output_type": "execute_result"
    }
   ],
   "source": [
    "using LinearAlgebra: diagm\n",
    "\n",
    "w  = 3\n",
    "d  = diagm(0=>[1,1]) # diagonal matrix with ones on the diagonal (first argument is the index of the diagonal used)\n",
    "ex = :($d+fetch($r)) # this computes the value of d + r (which was computed by process 2)\n",
    "s  = @spawnat w eval(ex) # worker w calculates expression ex\n",
    "         # equivalent to s = @spawnat 3 [1 0;0 1]+fetch(r)\n",
    "fetch(s)\n",
    "\n",
    "# here we just passed information from worker 2 to 3 (if task performed at 3 requires info from task performed at 2)"
   ]
  },
  {
   "cell_type": "code",
   "execution_count": 17,
   "metadata": {
    "ExecuteTime": {
     "end_time": "2020-10-21T14:16:14.756000+02:00",
     "start_time": "2020-10-21T12:16:14.350Z"
    }
   },
   "outputs": [
    {
     "data": {
      "text/plain": [
       "2×2 Array{Float64,2}:\n",
       "  0.0497165  -0.777812\n",
       " -0.534875   -0.175802"
      ]
     },
     "execution_count": 17,
     "metadata": {},
     "output_type": "execute_result"
    }
   ],
   "source": [
    "s= @spawn  sin.(randn(2,2)) #worker is chosen automatically if not specified\n",
    "fetch(s)"
   ]
  },
  {
   "cell_type": "code",
   "execution_count": 18,
   "metadata": {
    "ExecuteTime": {
     "end_time": "2020-10-21T14:17:00.453000+02:00",
     "start_time": "2020-10-21T12:16:58.286Z"
    }
   },
   "outputs": [
    {
     "data": {
      "text/plain": [
       "5-element Array{Float64,1}:\n",
       " -224.63620001490915\n",
       " -850.5071619017439 \n",
       " 1277.9516953175375 \n",
       " -162.01719519848024\n",
       " -550.9830209805899 "
      ]
     },
     "execution_count": 18,
     "metadata": {},
     "output_type": "execute_result"
    }
   ],
   "source": [
    "@everywhere using LinearAlgebra: det # execute this on all processes (load this function on every process)\n",
    "result = [@spawnat w det(randn(10,10)) for w in workers()] # execute this function on all processes through a loop\n",
    "# all processes have access to the function det\n",
    "[fetch(result[k]) for k=1:nprocs()-1] # get results on all current processes"
   ]
  },
  {
   "cell_type": "code",
   "execution_count": 19,
   "metadata": {
    "ExecuteTime": {
     "end_time": "2020-10-21T14:17:06.562000+02:00",
     "start_time": "2020-10-21T12:17:06.111Z"
    }
   },
   "outputs": [
    {
     "name": "stdout",
     "output_type": "stream",
     "text": [
      "85.02692477386184\n",
      "      From worker 6:\t1518.6819854082423\n",
      "      From worker 5:\t-96.10086265240606\n",
      "      From worker 3:\t-1510.6954098784688\n",
      "      From worker 4:\t-42.661971487350804\n",
      "      From worker 2:\t-48.97098459936341\n"
     ]
    }
   ],
   "source": [
    "@everywhere println(det(randn(10,10))) # same calculation on each worker"
   ]
  },
  {
   "cell_type": "code",
   "execution_count": 21,
   "metadata": {
    "ExecuteTime": {
     "end_time": "2020-10-21T14:23:18.021000+02:00",
     "start_time": "2020-10-21T12:23:17.970Z"
    }
   },
   "outputs": [
    {
     "name": "stdout",
     "output_type": "stream",
     "text": [
      "5.152432445750008\n",
      "      From worker 5:\t5.38425178533312\n",
      "      From worker 6:\t3.9078623209019043\n",
      "      From worker 3:\t5.051712348202915\n",
      "      From worker 4:\t3.857434021569288\n",
      "      From worker 2:\t5.64050141776188\n"
     ]
    }
   ],
   "source": [
    "@everywhere function f(x::Float64)\n",
    "    println(x +randn())\n",
    "end \n",
    "@everywhere x=5.\n",
    "@everywhere f(x)"
   ]
  },
  {
   "cell_type": "markdown",
   "metadata": {},
   "source": [
    "### Parallel loops"
   ]
  },
  {
   "cell_type": "code",
   "execution_count": 39,
   "metadata": {
    "ExecuteTime": {
     "end_time": "2020-10-21T14:33:25.649000+02:00",
     "start_time": "2020-10-21T12:33:25.616Z"
    },
    "scrolled": true
   },
   "outputs": [
    {
     "name": "stdout",
     "output_type": "stream",
     "text": [
      "  0.023296 seconds (29.28 k allocations: 1.552 MiB)\n"
     ]
    },
    {
     "data": {
      "text/plain": [
       "3.1362"
      ]
     },
     "execution_count": 39,
     "metadata": {},
     "output_type": "execute_result"
    }
   ],
   "source": [
    "function MC_pi(n) # approximation of pi using MC method\n",
    "    s = 0\n",
    "    for k in 1:n\n",
    "        if rand()^2+rand()^2<1. # if we fall in the disk (all possible numbers are in the square)\n",
    "            s=s+1 # add 1\n",
    "        end\n",
    "    end\n",
    "    4*s/n # ratio between area of circle and square is π/4, s/n is an estimation of that ratio \n",
    "    #(number of points falling in the circle/total)\n",
    "end\n",
    "@time MC_pi(10^5)"
   ]
  },
  {
   "cell_type": "markdown",
   "metadata": {
    "ExecuteTime": {
     "end_time": "2020-10-21T14:24:03.971000+02:00",
     "start_time": "2020-10-21T12:24:02.961Z"
    }
   },
   "source": [
    "workers()\n",
    "addprocs(3)\n",
    "workers()"
   ]
  },
  {
   "cell_type": "markdown",
   "metadata": {},
   "source": [
    "### The map and pmaps functions\n",
    "\n",
    "map allows to call the same function for different inputs of the same sizes.\n",
    "\n",
    "pmap does the same but distributes all the arguments to the different processes"
   ]
  },
  {
   "cell_type": "code",
   "execution_count": 42,
   "metadata": {
    "ExecuteTime": {
     "end_time": "2020-10-21T14:33:44.837000+02:00",
     "start_time": "2020-10-21T12:33:39.361Z"
    }
   },
   "outputs": [
    {
     "name": "stdout",
     "output_type": "stream",
     "text": [
      "  5.464437 seconds (7.62 M allocations: 210.155 MiB, 1.19% gc time)\n"
     ]
    },
    {
     "data": {
      "text/plain": [
       "3.14084"
      ]
     },
     "execution_count": 42,
     "metadata": {},
     "output_type": "execute_result"
    }
   ],
   "source": [
    "function MC_pi_parallel(n)\n",
    "    @everywhere function g(x) # function computing whether a point is in the circle or not\n",
    "        rand()^2+rand()^2<1. ? 1 : 0 # no data is required here, function returns 1 if condition is true, 0 othw\n",
    "    end\n",
    "    s = sum(pmap(g,collect(1:n))) # we call function g with N different arguments, and distribute the computations\n",
    "    4*s/n\n",
    "end\n",
    "@time MC_pi_parallel(10^5)\n"
   ]
  },
  {
   "cell_type": "markdown",
   "metadata": {
    "ExecuteTime": {
     "end_time": "2020-10-21T14:32:05.880000+02:00",
     "start_time": "2020-10-21T12:32:05.872Z"
    }
   },
   "source": [
    "\"pmap\" is slower here! The reason is that the tasks made by each worker are too simple and fast, but they are numerous, so the overhead from transferring data in and out for each worker dominates the computing time"
   ]
  },
  {
   "cell_type": "code",
   "execution_count": 45,
   "metadata": {
    "ExecuteTime": {
     "end_time": "2020-10-21T14:34:07.495000+02:00",
     "start_time": "2020-10-21T12:34:03.262Z"
    }
   },
   "outputs": [
    {
     "name": "stdout",
     "output_type": "stream",
     "text": [
      "  2.236882 seconds (406 allocations: 763.726 MiB)\n",
      "  0.919974 seconds (8.53 k allocations: 255.531 KiB)\n"
     ]
    }
   ],
   "source": [
    "M = [randn(1000,1000) for k=1:100];\n",
    "@time [det(m) for m in M];\n",
    "@time pmap(det,M);  #parallel mapping of a function\n"
   ]
  },
  {
   "cell_type": "markdown",
   "metadata": {},
   "source": [
    "### Recovering returned values, Sending data and passing arguments to pmap"
   ]
  },
  {
   "cell_type": "code",
   "execution_count": 47,
   "metadata": {
    "ExecuteTime": {
     "end_time": "2020-10-21T14:36:33.158000+02:00",
     "start_time": "2020-10-21T12:36:31.862Z"
    }
   },
   "outputs": [
    {
     "name": "stdout",
     "output_type": "stream",
     "text": [
      "  0.143301 seconds (226.99 k allocations: 11.111 MiB)\n",
      "  1.086187 seconds (53.17 k allocations: 156.034 MiB)\n",
      "(1000,)\n",
      "-0.0\n"
     ]
    }
   ],
   "source": [
    "M = 100\n",
    "N = 1000\n",
    "X = randn(M,N)\n",
    "\n",
    "X_parallel = [X[:,k] for k = 1:N]; # this creates an array containing all columns of X that can be iterated over\n",
    "\n",
    "@everywhere using LinearAlgebra: det\n",
    "\n",
    "@time dets = pmap(x -> det(x*x'),X_parallel);\n",
    "@time dets = map(x -> det(x*x'),X_parallel);\n",
    "\n",
    "println(size(dets))\n",
    "println(dets[2]) # this is 0 because matrix has always a rank of 1"
   ]
  },
  {
   "cell_type": "code",
   "execution_count": 49,
   "metadata": {
    "ExecuteTime": {
     "end_time": "2020-10-21T14:37:31.725000+02:00",
     "start_time": "2020-10-21T12:37:30.371Z"
    }
   },
   "outputs": [
    {
     "name": "stdout",
     "output_type": "stream",
     "text": [
      "  0.200573 seconds (216.85 k allocations: 10.591 MiB, 1.98% gc time)\n",
      "  1.105608 seconds (91.74 k allocations: 310.457 MiB, 2.44% gc time)\n",
      "(1000,)\n",
      "10418.753351270703\n"
     ]
    }
   ],
   "source": [
    "# we need anonymous functions to call custom functions with pmap\n",
    "# need the correct prototype to send parameters\n",
    "@everywhere using LinearAlgebra: I\n",
    "\n",
    "@everywhere function custom_det(x,λ,M) # computes the determinant of a new matrix with parameters\n",
    "    return  determinant = det(x'*x .+ λ*Matrix{Float64}(I, M, M))\n",
    "end\n",
    "λ = 1\n",
    "\n",
    "@time dets = pmap(x -> custom_det(x,λ,M),X_parallel);\n",
    "@time dets = map(x -> custom_det(x,λ,M),X_parallel);\n",
    "\n",
    "println(size(dets))\n",
    "println(dets[2]) # this is 0 because matrix has always a rank of 1"
   ]
  },
  {
   "cell_type": "code",
   "execution_count": null,
   "metadata": {},
   "outputs": [],
   "source": []
  },
  {
   "cell_type": "code",
   "execution_count": null,
   "metadata": {},
   "outputs": [],
   "source": []
  },
  {
   "cell_type": "markdown",
   "metadata": {},
   "source": [
    "### Distributed arrays"
   ]
  },
  {
   "cell_type": "code",
   "execution_count": 50,
   "metadata": {
    "ExecuteTime": {
     "end_time": "2020-10-21T14:37:41.300000+02:00",
     "start_time": "2020-10-21T12:37:41.297Z"
    }
   },
   "outputs": [],
   "source": [
    "# using Pkg\n",
    "# Pkg.add(\"DistributedArrays\") # compatibility pb with julia 1.2\n"
   ]
  },
  {
   "cell_type": "code",
   "execution_count": 51,
   "metadata": {
    "ExecuteTime": {
     "end_time": "2020-10-21T14:37:45.537000+02:00",
     "start_time": "2020-10-21T12:37:43.694Z"
    }
   },
   "outputs": [
    {
     "name": "stderr",
     "output_type": "stream",
     "text": [
      "┌ Info: Recompiling stale cache file /home/administrateur/.julia/compiled/v1.2/DistributedArrays/Gfdem.ji for DistributedArrays [aaf54ef3-cdf8-58ed-94cc-d582ad619b94]\n",
      "└ @ Base loading.jl:1240\n"
     ]
    }
   ],
   "source": [
    "@everywhere using DistributedArrays # distributed arrays are arrays that can be accessed and modified by any process"
   ]
  },
  {
   "cell_type": "code",
   "execution_count": 54,
   "metadata": {
    "ExecuteTime": {
     "end_time": "2020-10-21T14:39:20.384000+02:00",
     "start_time": "2020-10-21T12:39:20.369Z"
    }
   },
   "outputs": [],
   "source": [
    "A = drandn(100,100) # directly generate distributed array\n",
    "B = randn(100,100) \n",
    "dB = distribute(B) # convert array to distributed array\n",
    "#C = @DArray [i+j for i = 1:100, j = 1:100];"
   ]
  },
  {
   "cell_type": "code",
   "execution_count": 55,
   "metadata": {
    "ExecuteTime": {
     "end_time": "2020-10-21T14:39:27.984000+02:00",
     "start_time": "2020-10-21T12:39:22.337Z"
    }
   },
   "outputs": [
    {
     "name": "stdout",
     "output_type": "stream",
     "text": [
      "  5.339598 seconds (4.30 M allocations: 211.548 MiB, 1.34% gc time)\n",
      "  0.011585 seconds (6.36 k allocations: 244.906 KiB)\n",
      "  0.283996 seconds (725.71 k allocations: 36.320 MiB, 2.23% gc time)\n"
     ]
    }
   ],
   "source": [
    "@time A*A; # distributed array\n",
    "@time dB*dB; # converted distributed array\n",
    "@time B*B; # standard array"
   ]
  },
  {
   "cell_type": "code",
   "execution_count": 57,
   "metadata": {
    "ExecuteTime": {
     "end_time": "2020-10-21T14:40:01.667000+02:00",
     "start_time": "2020-10-21T12:40:01.439Z"
    }
   },
   "outputs": [
    {
     "name": "stdout",
     "output_type": "stream",
     "text": [
      "  0.043379 seconds (99.87 k allocations: 4.705 MiB)\n",
      "  0.172500 seconds (388.01 k allocations: 19.892 MiB, 3.35% gc time)\n"
     ]
    }
   ],
   "source": [
    "@time [i+j for i = 1:100, j = 1:100];\n",
    "@time @DArray [i+j for i = 1:100, j = 1:100];"
   ]
  },
  {
   "cell_type": "code",
   "execution_count": 60,
   "metadata": {
    "ExecuteTime": {
     "end_time": "2020-10-21T14:48:08.400000+02:00",
     "start_time": "2020-10-21T12:48:08.389Z"
    }
   },
   "outputs": [
    {
     "name": "stdout",
     "output_type": "stream",
     "text": [
      "9\n"
     ]
    }
   ],
   "source": [
    "println(nprocs())\n",
    "# addprocs(7)\n",
    "# rmprocs(12:13)\n",
    "@everywhere using DistributedArrays\n",
    "# WorkerPool([2,3,4])\n",
    "# @DArray [@show x^2 for x = 1:10]; # print all squares from 1 to 10 (not in order because taken care of by different processes)"
   ]
  },
  {
   "cell_type": "code",
   "execution_count": 62,
   "metadata": {
    "ExecuteTime": {
     "end_time": "2020-10-21T14:48:13.414000+02:00",
     "start_time": "2020-10-21T12:48:12.817Z"
    }
   },
   "outputs": [
    {
     "name": "stdout",
     "output_type": "stream",
     "text": [
      "  0.288127 seconds (354.19 k allocations: 18.781 MiB)\n",
      "  0.299925 seconds (51.18 k allocations: 765.501 MiB, 4.51% gc time)\n"
     ]
    }
   ],
   "source": [
    "# results depending on nb of procs and data size\n",
    "@time @DArray [x^2 for x = 1:10^8]; # distributed version (only advantageous for large datasets)\n",
    "@time [x^2 for x = 1:10^8]; # standard version\n",
    "\n",
    "# test as a function of number of processes and data size"
   ]
  },
  {
   "cell_type": "code",
   "execution_count": 64,
   "metadata": {
    "ExecuteTime": {
     "end_time": "2020-10-21T14:48:25.209000+02:00",
     "start_time": "2020-10-21T12:48:24.977Z"
    }
   },
   "outputs": [
    {
     "data": {
      "text/plain": [
       "100×100 DArray{Float64,2,Array{Float64,2}}:\n",
       " 0.0  0.0  0.0  0.0  0.0  0.0  0.0  0.0  …  0.0  0.0  0.0  0.0  0.0  0.0  0.0\n",
       " 0.0  0.0  0.0  0.0  0.0  0.0  0.0  0.0     0.0  0.0  0.0  0.0  0.0  0.0  0.0\n",
       " 0.0  0.0  0.0  0.0  0.0  0.0  0.0  0.0     0.0  0.0  0.0  0.0  0.0  0.0  0.0\n",
       " 0.0  0.0  0.0  0.0  0.0  0.0  0.0  0.0     0.0  0.0  0.0  0.0  0.0  0.0  0.0\n",
       " 0.0  0.0  0.0  0.0  0.0  0.0  0.0  0.0     0.0  0.0  0.0  0.0  0.0  0.0  0.0\n",
       " 0.0  0.0  0.0  0.0  0.0  0.0  0.0  0.0  …  0.0  0.0  0.0  0.0  0.0  0.0  0.0\n",
       " 0.0  0.0  0.0  0.0  0.0  0.0  0.0  0.0     0.0  0.0  0.0  0.0  0.0  0.0  0.0\n",
       " 0.0  0.0  0.0  0.0  0.0  0.0  0.0  0.0     0.0  0.0  0.0  0.0  0.0  0.0  0.0\n",
       " 0.0  0.0  0.0  0.0  0.0  0.0  0.0  0.0     0.0  0.0  0.0  0.0  0.0  0.0  0.0\n",
       " 0.0  0.0  0.0  0.0  0.0  0.0  0.0  0.0     0.0  0.0  0.0  0.0  0.0  0.0  0.0\n",
       " 0.0  0.0  0.0  0.0  0.0  0.0  0.0  0.0  …  0.0  0.0  0.0  0.0  0.0  0.0  0.0\n",
       " 0.0  0.0  0.0  0.0  0.0  0.0  0.0  0.0     0.0  0.0  0.0  0.0  0.0  0.0  0.0\n",
       " 0.0  0.0  0.0  0.0  0.0  0.0  0.0  0.0     0.0  0.0  0.0  0.0  0.0  0.0  0.0\n",
       " ⋮                        ⋮              ⋱            ⋮                      \n",
       " 0.0  0.0  0.0  0.0  0.0  0.0  0.0  0.0     0.0  0.0  0.0  0.0  0.0  0.0  0.0\n",
       " 0.0  0.0  0.0  0.0  0.0  0.0  0.0  0.0     0.0  0.0  0.0  0.0  0.0  0.0  0.0\n",
       " 0.0  0.0  0.0  0.0  0.0  0.0  0.0  0.0  …  0.0  0.0  0.0  0.0  0.0  0.0  0.0\n",
       " 0.0  0.0  0.0  0.0  0.0  0.0  0.0  0.0     0.0  0.0  0.0  0.0  0.0  0.0  0.0\n",
       " 0.0  0.0  0.0  0.0  0.0  0.0  0.0  0.0     0.0  0.0  0.0  0.0  0.0  0.0  0.0\n",
       " 0.0  0.0  0.0  0.0  0.0  0.0  0.0  0.0     0.0  0.0  0.0  0.0  0.0  0.0  0.0\n",
       " 0.0  0.0  0.0  0.0  0.0  0.0  0.0  0.0     0.0  0.0  0.0  0.0  0.0  0.0  0.0\n",
       " 0.0  0.0  0.0  0.0  0.0  0.0  0.0  0.0  …  0.0  0.0  0.0  0.0  0.0  0.0  0.0\n",
       " 0.0  0.0  0.0  0.0  0.0  0.0  0.0  0.0     0.0  0.0  0.0  0.0  0.0  0.0  0.0\n",
       " 0.0  0.0  0.0  0.0  0.0  0.0  0.0  0.0     0.0  0.0  0.0  0.0  0.0  0.0  0.0\n",
       " 0.0  0.0  0.0  0.0  0.0  0.0  0.0  0.0     0.0  0.0  0.0  0.0  0.0  0.0  0.0\n",
       " 0.0  0.0  0.0  0.0  0.0  0.0  0.0  0.0     0.0  0.0  0.0  0.0  0.0  0.0  0.0"
      ]
     },
     "execution_count": 64,
     "metadata": {},
     "output_type": "execute_result"
    }
   ],
   "source": [
    "dzeros((100,100), workers()[1:4], [1,4]) # creates a distributed zero array where \n",
    "# the second dimension is spread around workers 1 to 4"
   ]
  },
  {
   "cell_type": "markdown",
   "metadata": {},
   "source": [
    "------------"
   ]
  }
 ],
 "metadata": {
  "@webio": {
   "lastCommId": null,
   "lastKernelId": null
  },
  "kernelspec": {
   "display_name": "Julia 1.5.2",
   "language": "julia",
   "name": "julia-1.5"
  },
  "language_info": {
   "file_extension": ".jl",
   "mimetype": "application/julia",
   "name": "julia",
   "version": "1.5.2"
  },
  "latex_envs": {
   "LaTeX_envs_menu_present": true,
   "autoclose": false,
   "autocomplete": true,
   "bibliofile": "biblio.bib",
   "cite_by": "apalike",
   "current_citInitial": 1,
   "eqLabelWithNumbers": true,
   "eqNumInitial": 1,
   "hotkeys": {
    "equation": "Ctrl-E",
    "itemize": "Ctrl-I"
   },
   "labels_anchors": false,
   "latex_user_defs": false,
   "report_style_numbering": false,
   "user_envs_cfg": false
  }
 },
 "nbformat": 4,
 "nbformat_minor": 1
}
